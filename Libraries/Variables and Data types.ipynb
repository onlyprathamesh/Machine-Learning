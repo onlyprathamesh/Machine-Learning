{
 "cells": [
  {
   "cell_type": "markdown",
   "id": "32691526",
   "metadata": {},
   "source": [
    "# Python Variable "
   ]
  },
  {
   "cell_type": "code",
   "execution_count": 1,
   "id": "48bf22ec",
   "metadata": {},
   "outputs": [
    {
     "name": "stdout",
     "output_type": "stream",
     "text": [
      "200\n",
      "45.8\n",
      "Python\n",
      "[20, 30]\n"
     ]
    }
   ],
   "source": [
    "quantity = 200 #integer\n",
    "temp = 45.8 #floating point\n",
    "course = \"Python\" # string\n",
    "arr = [20,30] #list\n",
    "\n",
    "print(quantity)\n",
    "print(temp)\n",
    "print(course)\n",
    "print(arr)"
   ]
  },
  {
   "cell_type": "code",
   "execution_count": 54,
   "id": "e5185466",
   "metadata": {},
   "outputs": [
    {
     "name": "stdout",
     "output_type": "stream",
     "text": [
      "Enter a number or type stop: 5\n",
      "<class 'str'>\n"
     ]
    }
   ],
   "source": [
    "number = input(\"Enter a number or type stop: \")\n",
    "print(type(number))"
   ]
  },
  {
   "cell_type": "code",
   "execution_count": 49,
   "id": "17088de1",
   "metadata": {},
   "outputs": [
    {
     "name": "stdout",
     "output_type": "stream",
     "text": [
      "<class 'int'>\n"
     ]
    }
   ],
   "source": [
    "i =10\n",
    "print(type(i))"
   ]
  },
  {
   "cell_type": "code",
   "execution_count": 2,
   "id": "bb9b01b3",
   "metadata": {},
   "outputs": [
    {
     "name": "stdout",
     "output_type": "stream",
     "text": [
      "<class 'int'>\n"
     ]
    }
   ],
   "source": [
    "print(type(quantity))"
   ]
  },
  {
   "cell_type": "code",
   "execution_count": 52,
   "id": "652da40d",
   "metadata": {},
   "outputs": [
    {
     "name": "stdout",
     "output_type": "stream",
     "text": [
      "10.5\n",
      "<class 'str'>\n"
     ]
    }
   ],
   "source": [
    "_time = '10.5'\n",
    "print(_time)\n",
    "print(type(_time))"
   ]
  },
  {
   "cell_type": "code",
   "execution_count": 55,
   "id": "b5573c41",
   "metadata": {},
   "outputs": [
    {
     "data": {
      "text/plain": [
       "int"
      ]
     },
     "execution_count": 55,
     "metadata": {},
     "output_type": "execute_result"
    }
   ],
   "source": [
    "a=10\n",
    "type(a)\n"
   ]
  },
  {
   "cell_type": "code",
   "execution_count": 57,
   "id": "2443a9a6",
   "metadata": {},
   "outputs": [
    {
     "data": {
      "text/plain": [
       "True"
      ]
     },
     "execution_count": 57,
     "metadata": {},
     "output_type": "execute_result"
    }
   ],
   "source": [
    "isinstance(10,int)\n"
   ]
  },
  {
   "cell_type": "code",
   "execution_count": 59,
   "id": "8bd4edc7",
   "metadata": {},
   "outputs": [
    {
     "data": {
      "text/plain": [
       "True"
      ]
     },
     "execution_count": 59,
     "metadata": {},
     "output_type": "execute_result"
    }
   ],
   "source": [
    "isinstance(10.5,float)"
   ]
  },
  {
   "cell_type": "code",
   "execution_count": 67,
   "id": "c204938f",
   "metadata": {},
   "outputs": [],
   "source": [
    "fruit_names = ['pear', 'apple', 'banana', 'orange','grapes']\n",
    "fruit_colours = ['green', 'red', 'yellow', 'orange']\n"
   ]
  },
  {
   "cell_type": "code",
   "execution_count": 74,
   "id": "80e55ae5",
   "metadata": {},
   "outputs": [
    {
     "data": {
      "text/plain": [
       "<zip at 0x26c1bac9f00>"
      ]
     },
     "execution_count": 74,
     "metadata": {},
     "output_type": "execute_result"
    }
   ],
   "source": [
    "y= zip(fruit_names, fruit_colours)\n",
    "# print(tuple(y))\n",
    "y"
   ]
  },
  {
   "cell_type": "code",
   "execution_count": 81,
   "id": "d11f684f",
   "metadata": {},
   "outputs": [
    {
     "name": "stdout",
     "output_type": "stream",
     "text": [
      "(('pear', 'green'), ('apple', 'red'), ('banana', 'yellow'), ('orange', 'orange'))\n"
     ]
    }
   ],
   "source": [
    "y= zip(fruit_names, fruit_colours)\n",
    "print(tuple(y))\n"
   ]
  },
  {
   "cell_type": "markdown",
   "id": "f5ec1dfc",
   "metadata": {},
   "source": [
    "# Boolean Datatype"
   ]
  },
  {
   "cell_type": "code",
   "execution_count": 75,
   "id": "2d14c6b7",
   "metadata": {},
   "outputs": [
    {
     "name": "stdout",
     "output_type": "stream",
     "text": [
      "True\n"
     ]
    }
   ],
   "source": [
    "b=True\n",
    "type(b)\n",
    "a=10\n",
    "b=20\n",
    "c=a<b\n",
    "print(c)\n",
    "\n",
    "\n"
   ]
  },
  {
   "cell_type": "code",
   "execution_count": 76,
   "id": "4c6bc380",
   "metadata": {},
   "outputs": [
    {
     "name": "stdout",
     "output_type": "stream",
     "text": [
      "2\n",
      "1\n"
     ]
    }
   ],
   "source": [
    "print(True+True)\n",
    "print(True-False)"
   ]
  },
  {
   "cell_type": "markdown",
   "id": "8682bfd1",
   "metadata": {},
   "source": [
    "# String"
   ]
  },
  {
   "cell_type": "code",
   "execution_count": 15,
   "id": "e44e5a66",
   "metadata": {},
   "outputs": [],
   "source": [
    "s1='''MMCOE\n",
    " College of Engineering'''\n",
    "s1=\"\"\"MMCOE\n",
    " College of Engineering\"\"\"\n"
   ]
  },
  {
   "cell_type": "markdown",
   "id": "7bdd85fa",
   "metadata": {},
   "source": [
    "# 7. Deleting the Variable"
   ]
  },
  {
   "cell_type": "code",
   "execution_count": 6,
   "id": "873b10cd",
   "metadata": {},
   "outputs": [
    {
     "name": "stdout",
     "output_type": "stream",
     "text": [
      "New York\n",
      "Location variable is deleted\n"
     ]
    },
    {
     "ename": "NameError",
     "evalue": "name 'Location' is not defined",
     "output_type": "error",
     "traceback": [
      "\u001b[1;31m---------------------------------------------------------------------------\u001b[0m",
      "\u001b[1;31mNameError\u001b[0m                                 Traceback (most recent call last)",
      "Cell \u001b[1;32mIn[6], line 5\u001b[0m\n\u001b[0;32m      3\u001b[0m \u001b[38;5;28;01mdel\u001b[39;00m Location\n\u001b[0;32m      4\u001b[0m \u001b[38;5;28mprint\u001b[39m(\u001b[38;5;124m\"\u001b[39m\u001b[38;5;124mLocation variable is deleted\u001b[39m\u001b[38;5;124m\"\u001b[39m)\n\u001b[1;32m----> 5\u001b[0m \u001b[38;5;28mprint\u001b[39m(\u001b[43mLocation\u001b[49m)\n",
      "\u001b[1;31mNameError\u001b[0m: name 'Location' is not defined"
     ]
    }
   ],
   "source": [
    "Location = \"New York\"\n",
    "print(Location)\n",
    "del Location\n",
    "print(\"Location variable is deleted\")\n",
    "print(Location)\n"
   ]
  },
  {
   "cell_type": "markdown",
   "id": "6385f59f",
   "metadata": {},
   "source": [
    "# EXplicit type casting"
   ]
  },
  {
   "cell_type": "code",
   "execution_count": 78,
   "id": "6266f181",
   "metadata": {},
   "outputs": [
    {
     "ename": "NameError",
     "evalue": "name 'flt' is not defined",
     "output_type": "error",
     "traceback": [
      "\u001b[1;31m---------------------------------------------------------------------------\u001b[0m",
      "\u001b[1;31mNameError\u001b[0m                                 Traceback (most recent call last)",
      "Cell \u001b[1;32mIn[78], line 2\u001b[0m\n\u001b[0;32m      1\u001b[0m \u001b[38;5;66;03m#Convert  float to int:\u001b[39;00m\n\u001b[1;32m----> 2\u001b[0m flt_to_int \u001b[38;5;241m=\u001b[39m \u001b[38;5;28mint\u001b[39m(\u001b[43mflt\u001b[49m) \u001b[38;5;66;03m# convert float to int \u001b[39;00m\n\u001b[0;32m      3\u001b[0m \u001b[38;5;28mprint\u001b[39m(\u001b[38;5;28mtype\u001b[39m(flt_to_int))\n\u001b[0;32m      5\u001b[0m \u001b[38;5;66;03m#Convert int to float:\u001b[39;00m\n",
      "\u001b[1;31mNameError\u001b[0m: name 'flt' is not defined"
     ]
    }
   ],
   "source": [
    "#Convert  float to int:\n",
    "flt_to_int = int(flt) # convert float to int \n",
    "print(type(flt_to_int))\n",
    "\n",
    "#Convert int to float:\n",
    "int_to_float = float(quantity)\n",
    "\n",
    "print(type(int_to_float))\n",
    "    \n",
    "# convert float to complex \n",
    "flt_to_cmplx = complex(flt) \n",
    "print(flt_to_cmplx)\n",
    "\n",
    "\n"
   ]
  },
  {
   "cell_type": "code",
   "execution_count": 5,
   "id": "1500833f",
   "metadata": {},
   "outputs": [
    {
     "data": {
      "text/plain": [
       "['False',\n",
       " 'None',\n",
       " 'True',\n",
       " 'and',\n",
       " 'as',\n",
       " 'assert',\n",
       " 'async',\n",
       " 'await',\n",
       " 'break',\n",
       " 'class',\n",
       " 'continue',\n",
       " 'def',\n",
       " 'del',\n",
       " 'elif',\n",
       " 'else',\n",
       " 'except',\n",
       " 'finally',\n",
       " 'for',\n",
       " 'from',\n",
       " 'global',\n",
       " 'if',\n",
       " 'import',\n",
       " 'in',\n",
       " 'is',\n",
       " 'lambda',\n",
       " 'nonlocal',\n",
       " 'not',\n",
       " 'or',\n",
       " 'pass',\n",
       " 'raise',\n",
       " 'return',\n",
       " 'try',\n",
       " 'while',\n",
       " 'with',\n",
       " 'yield']"
      ]
     },
     "execution_count": 5,
     "metadata": {},
     "output_type": "execute_result"
    }
   ],
   "source": [
    "import keyword\n",
    "keyword.kwlist\n"
   ]
  },
  {
   "cell_type": "markdown",
   "id": "6135e91a",
   "metadata": {},
   "source": [
    "# String Operatons "
   ]
  },
  {
   "cell_type": "code",
   "execution_count": 16,
   "id": "d7f36eb3",
   "metadata": {},
   "outputs": [
    {
     "name": "stdout",
     "output_type": "stream",
     "text": [
      "Hello World\n"
     ]
    }
   ],
   "source": [
    "# Concatenation of strings\n",
    "str1 = \"Hello\"\n",
    "str2 = \"World\"\n",
    "result = str1 + \" \" + str2\n",
    "\n",
    "# Printing the result\n",
    "print(result)\n"
   ]
  },
  {
   "cell_type": "code",
   "execution_count": 17,
   "id": "525da0ca",
   "metadata": {},
   "outputs": [
    {
     "name": "stdout",
     "output_type": "stream",
     "text": [
      "Length: 18\n"
     ]
    }
   ],
   "source": [
    "# String length\n",
    "text = \"Python Programming\"\n",
    "length = len(text)\n",
    "\n",
    "# Printing the length\n",
    "print(\"Length:\", length)\n"
   ]
  },
  {
   "cell_type": "code",
   "execution_count": 84,
   "id": "2efb469d",
   "metadata": {},
   "outputs": [
    {
     "data": {
      "text/plain": [
       "'E'"
      ]
     },
     "execution_count": 84,
     "metadata": {},
     "output_type": "execute_result"
    }
   ],
   "source": [
    "y='MMCOE'\n",
    "y[-1]"
   ]
  },
  {
   "cell_type": "code",
   "execution_count": 18,
   "id": "5969abe9",
   "metadata": {},
   "outputs": [
    {
     "name": "stdout",
     "output_type": "stream",
     "text": [
      "Substring: is a sam\n"
     ]
    }
   ],
   "source": [
    "# String slicing\n",
    "sentence = \"This is a sample sentence.\"\n",
    "substring = sentence[5:13]\n",
    "\n",
    "# Printing the substring\n",
    "print(\"Substring:\", substring)\n"
   ]
  },
  {
   "cell_type": "code",
   "execution_count": 85,
   "id": "85c3cdf7",
   "metadata": {},
   "outputs": [
    {
     "name": "stdout",
     "output_type": "stream",
     "text": [
      "My name is Alice and I am 25 years old.\n",
      "My name is Alice and I am 25 years old.\n"
     ]
    }
   ],
   "source": [
    "# String formatting\n",
    "name = \"Alice\"\n",
    "age = 25\n",
    "message = \"My name is {} and I am {} years old.\".format(name, age)\n",
    "\n",
    "# Printing the formatted string\n",
    "print(message)\n",
    "\n",
    "print(f\"My name is {name} and I am {age} years old.\")"
   ]
  },
  {
   "cell_type": "code",
   "execution_count": 20,
   "id": "0cfc943a",
   "metadata": {},
   "outputs": [
    {
     "name": "stdout",
     "output_type": "stream",
     "text": [
      "Uppercase: PYTHON PROGRAMMING\n",
      "Lowercase: python programming\n"
     ]
    }
   ],
   "source": [
    "# Uppercase and lowercase\n",
    "text = \"Python Programming\"\n",
    "uppercase_text = text.upper()\n",
    "lowercase_text = text.lower()\n",
    "\n",
    "# Printing the results\n",
    "print(\"Uppercase:\", uppercase_text)\n",
    "print(\"Lowercase:\", lowercase_text)\n"
   ]
  },
  {
   "cell_type": "code",
   "execution_count": 89,
   "id": "3a0738bf",
   "metadata": {},
   "outputs": [
    {
     "name": "stdout",
     "output_type": "stream",
     "text": [
      "Words: ['This is a sample sentence.']\n"
     ]
    }
   ],
   "source": [
    "# String splitting\n",
    "sentence = \"This is a sample sentence.\"\n",
    "words = sentence.split(' ')\n",
    "\n",
    "# Printing the words\n",
    "print(\"Words:\", words)\n"
   ]
  },
  {
   "cell_type": "code",
   "execution_count": 90,
   "id": "dba701ec",
   "metadata": {},
   "outputs": [
    {
     "name": "stdout",
     "output_type": "stream",
     "text": [
      "Modified Text: I like programming in Python.\n"
     ]
    }
   ],
   "source": [
    "# String replacement\n",
    "original_text = \"I like programming in Java.\"\n",
    "modified_text = original_text.replace(\"Java\", \"Python\")\n",
    "\n",
    "# Printing the modified string\n",
    "print(\"Modified Text:\", modified_text)\n"
   ]
  },
  {
   "cell_type": "code",
   "execution_count": 23,
   "id": "4a6c434e",
   "metadata": {},
   "outputs": [
    {
     "name": "stdout",
     "output_type": "stream",
     "text": [
      "Substring 'is' present: True\n"
     ]
    }
   ],
   "source": [
    "# Checking substring presence\n",
    "sentence = \"Python is powerful.\"\n",
    "is_present = \"is\" in sentence\n",
    "\n",
    "# Printing the result\n",
    "print(\"Substring 'is' present:\", is_present)\n"
   ]
  },
  {
   "cell_type": "markdown",
   "id": "574e7a52",
   "metadata": {},
   "source": [
    "# String Exercise "
   ]
  },
  {
   "cell_type": "code",
   "execution_count": 91,
   "id": "c5f34a10",
   "metadata": {},
   "outputs": [
    {
     "name": "stdout",
     "output_type": "stream",
     "text": [
      "The character 'o' appears 2 times.\n"
     ]
    }
   ],
   "source": [
    "# Counting occurrences of a character\n",
    "sentence = \"Python is powerful.\"\n",
    "char_to_count = \"o\"\n",
    "count = sentence.count(char_to_count)\n",
    "\n",
    "# Printing the result\n",
    "print(f\"The character '{char_to_count}' appears {count} times.\")\n"
   ]
  },
  {
   "cell_type": "code",
   "execution_count": 25,
   "id": "50b83a77",
   "metadata": {},
   "outputs": [
    {
     "name": "stdout",
     "output_type": "stream",
     "text": [
      "Original: python programming is fun\n",
      "Capitalized: Python Programming Is Fun\n"
     ]
    }
   ],
   "source": [
    "# Capitalizing the first letter of each word\n",
    "sentence = \"python programming is fun\"\n",
    "capitalized_sentence = sentence.title()\n",
    "\n",
    "# Printing the result\n",
    "print(\"Original:\", sentence)\n",
    "print(\"Capitalized:\", capitalized_sentence)\n"
   ]
  },
  {
   "cell_type": "code",
   "execution_count": 93,
   "id": "9a7d88df",
   "metadata": {},
   "outputs": [
    {
     "data": {
      "text/plain": [
       "'I Am Mmcoe Student'"
      ]
     },
     "execution_count": 93,
     "metadata": {},
     "output_type": "execute_result"
    }
   ],
   "source": [
    "y = 'i am mmcoe student'\n",
    "y = y.title()\n",
    "y"
   ]
  },
  {
   "cell_type": "code",
   "execution_count": 94,
   "id": "a712aa4f",
   "metadata": {},
   "outputs": [
    {
     "data": {
      "text/plain": [
       "'The Global Outbreak Alert And Response Network (Goarn) Has Launched A\\nGoarn Covid-19 Knowledge Hub. The Hub Is Designed As A Central Repository Of\\nQuality Public Health Information, Guidance, Tools And Webinars Which Can Be\\nAccessed Freely At Any Point.'"
      ]
     },
     "execution_count": 94,
     "metadata": {},
     "output_type": "execute_result"
    }
   ],
   "source": [
    "p= '''The Global Outbreak Alert and Response Network (GOARN) has launched a\n",
    "GOARN COVID-19 Knowledge hub. The hub is designed as a central repository of\n",
    "quality public health information, guidance, tools and webinars which can be\n",
    "accessed freely at any point.'''\n",
    "p= p.title()\n",
    "p\n"
   ]
  },
  {
   "cell_type": "code",
   "execution_count": 95,
   "id": "f0e0bf99",
   "metadata": {},
   "outputs": [
    {
     "name": "stdout",
     "output_type": "stream",
     "text": [
      "Original:   Python Programming  \n",
      "Trimmed: Python Programming\n"
     ]
    }
   ],
   "source": [
    "# Removing whitespaces\n",
    "text_with_whitespaces = \"  Python Programming  \"\n",
    "trimmed_text = text_with_whitespaces.strip()\n",
    "\n",
    "# Printing the result\n",
    "print(\"Original:\", text_with_whitespaces)\n",
    "print(\"Trimmed:\", trimmed_text)\n"
   ]
  },
  {
   "cell_type": "code",
   "execution_count": 97,
   "id": "56998a44",
   "metadata": {},
   "outputs": [
    {
     "name": "stdout",
     "output_type": "stream",
     "text": [
      "Joined Sentence: Python is awesome\n"
     ]
    },
    {
     "data": {
      "text/plain": [
       "'MMCOEKarve'"
      ]
     },
     "execution_count": 97,
     "metadata": {},
     "output_type": "execute_result"
    }
   ],
   "source": [
    "# Joining strings from a list\n",
    "words_list = [\"Python\", \"is\", \"awesome\"]\n",
    "joined_sentence = \" \".join(words_list)\n",
    "\n",
    "# Printing the result\n",
    "print(\"Joined Sentence:\", joined_sentence)\n"
   ]
  },
  {
   "cell_type": "code",
   "execution_count": 99,
   "id": "4021765d",
   "metadata": {},
   "outputs": [
    {
     "name": "stdout",
     "output_type": "stream",
     "text": [
      "Joined Sentence: Pythonis awesome\n"
     ]
    }
   ],
   "source": [
    "# Joining strings from a list\n",
    "words_list = (\"Python\",\"is\", \"awesome\")\n",
    "joined_sentence = \" \".join(words_list)\n",
    "\n",
    "# Printing the result\n",
    "print(\"Joined Sentence:\", joined_sentence)"
   ]
  },
  {
   "cell_type": "code",
   "execution_count": 101,
   "id": "032317d1",
   "metadata": {},
   "outputs": [
    {
     "data": {
      "text/plain": [
       "['Python', 'is', 'an', 'amazing', 'programming', 'language.']"
      ]
     },
     "execution_count": 101,
     "metadata": {},
     "output_type": "execute_result"
    }
   ],
   "source": [
    "# Counting words in a sentence\n",
    "sentence = \"Python is an amazing programming language.\"\n",
    "sentence.split()\n",
    "word_count = len(sentence.split())\n",
    "word_count\n",
    "\n",
    "# Printing the result\n",
    "print(\"Word Count:\", word_count)\n",
    "\n",
    "\n"
   ]
  },
  {
   "cell_type": "code",
   "execution_count": 24,
   "id": "ce2be83e",
   "metadata": {},
   "outputs": [
    {
     "name": "stdout",
     "output_type": "stream",
     "text": [
      "Yna PYnat tive PYnativ PYnativ\n"
     ]
    }
   ],
   "source": [
    "str1 = \"PYnative\"\n",
    "print(str1[1:4], str1[:5], str1[4:], str1[0:-1], str1[:-1])"
   ]
  },
  {
   "cell_type": "markdown",
   "id": "65a91261",
   "metadata": {},
   "source": [
    "# Operators"
   ]
  },
  {
   "cell_type": "code",
   "execution_count": 27,
   "id": "e643260a",
   "metadata": {},
   "outputs": [
    {
     "name": "stdout",
     "output_type": "stream",
     "text": [
      "a > b is  False\n",
      "a >= b is  True\n",
      "a < b is  False\n"
     ]
    }
   ],
   "source": [
    "a=\"durga\"\n",
    "b=\"durga\"\n",
    "print(\"a > b is \",a>b)\n",
    "print(\"a >= b is \",a>=b)\n",
    "print(\"a < b is \",a<b) "
   ]
  },
  {
   "cell_type": "code",
   "execution_count": 29,
   "id": "601b61f6",
   "metadata": {},
   "outputs": [
    {
     "name": "stdout",
     "output_type": "stream",
     "text": [
      "False\n",
      "True\n",
      "True\n",
      "False\n"
     ]
    },
    {
     "ename": "TypeError",
     "evalue": "'>' not supported between instances of 'int' and 'str'",
     "output_type": "error",
     "traceback": [
      "\u001b[1;31m---------------------------------------------------------------------------\u001b[0m",
      "\u001b[1;31mTypeError\u001b[0m                                 Traceback (most recent call last)",
      "Cell \u001b[1;32mIn[29], line 5\u001b[0m\n\u001b[0;32m      3\u001b[0m \u001b[38;5;28mprint\u001b[39m(\u001b[38;5;241m10\u001b[39m \u001b[38;5;241m>\u001b[39m\u001b[38;5;28;01mTrue\u001b[39;00m) \n\u001b[0;32m      4\u001b[0m \u001b[38;5;28mprint\u001b[39m(\u001b[38;5;28;01mFalse\u001b[39;00m \u001b[38;5;241m>\u001b[39m \u001b[38;5;28;01mTrue\u001b[39;00m) \n\u001b[1;32m----> 5\u001b[0m \u001b[38;5;28mprint\u001b[39m(\u001b[38;5;241;43m10\u001b[39;49m\u001b[38;5;241;43m>\u001b[39;49m\u001b[38;5;124;43m'\u001b[39;49m\u001b[38;5;124;43mdurga\u001b[39;49m\u001b[38;5;124;43m'\u001b[39;49m)\n",
      "\u001b[1;31mTypeError\u001b[0m: '>' not supported between instances of 'int' and 'str'"
     ]
    }
   ],
   "source": [
    "print(True>True) \n",
    "print(True>=True) \n",
    "print(10 >True) \n",
    "print(False > True) \n",
    "print(10>'durga')"
   ]
  },
  {
   "cell_type": "code",
   "execution_count": 32,
   "id": "8ff78a31",
   "metadata": {},
   "outputs": [
    {
     "data": {
      "text/plain": [
       "False"
      ]
     },
     "execution_count": 32,
     "metadata": {},
     "output_type": "execute_result"
    }
   ],
   "source": [
    "10<20 \n",
    "10<20<30 \n",
    "10<20<30<40\n",
    "10<20<30<40>50 "
   ]
  },
  {
   "cell_type": "markdown",
   "id": "63f10bec",
   "metadata": {},
   "source": [
    "# Input Function"
   ]
  },
  {
   "cell_type": "code",
   "execution_count": 38,
   "id": "7420ffec",
   "metadata": {},
   "outputs": [
    {
     "name": "stdout",
     "output_type": "stream",
     "text": [
      "The Number of Command Line Arguments: 3\n",
      "The List of Command Line Arguments: ['C:\\\\Users\\\\kalya\\\\AppData\\\\Roaming\\\\Python\\\\Python311\\\\site-packages\\\\ipykernel_launcher.py', '-f', 'C:\\\\Users\\\\kalya\\\\AppData\\\\Roaming\\\\jupyter\\\\runtime\\\\kernel-6d3cc5b6-a3b3-4641-b9ba-5c2dec2322f1.json']\n",
      "Command Line Arguments one by one:\n",
      "C:\\Users\\kalya\\AppData\\Roaming\\Python\\Python311\\site-packages\\ipykernel_launcher.py\n",
      "-f\n",
      "C:\\Users\\kalya\\AppData\\Roaming\\jupyter\\runtime\\kernel-6d3cc5b6-a3b3-4641-b9ba-5c2dec2322f1.json\n"
     ]
    }
   ],
   "source": [
    "from sys import argv\n",
    "print(\"The Number of Command Line Arguments:\", len(argv))\n",
    "print(\"The List of Command Line Arguments:\", argv)\n",
    "print(\"Command Line Arguments one by one:\")\n",
    "for x in argv:\n",
    "    print(x) "
   ]
  },
  {
   "cell_type": "code",
   "execution_count": 40,
   "id": "284701fa",
   "metadata": {},
   "outputs": [
    {
     "name": "stdout",
     "output_type": "stream",
     "text": [
      "Enter Employee Name: kalyani\n",
      "Enter salary: 50000\n",
      "Enter Company name: mmcoe\n",
      "\n",
      "\n",
      "Printing Employee Details\n",
      "Name Salary Company\n",
      "kalyani 50000 mmcoe\n"
     ]
    }
   ],
   "source": [
    "# take three values from user\n",
    "name = input(\"Enter Employee Name: \")\n",
    "salary = input(\"Enter salary: \")\n",
    "company = input(\"Enter Company name: \")\n",
    "\n",
    "# Display all values on screen\n",
    "print(\"\\n\")\n",
    "print(\"Printing Employee Details\")\n",
    "print(\"Name\", \"Salary\", \"Company\")\n",
    "print(name, salary, company)"
   ]
  },
  {
   "cell_type": "code",
   "execution_count": 41,
   "id": "eaa3507c",
   "metadata": {},
   "outputs": [
    {
     "name": "stdout",
     "output_type": "stream",
     "text": [
      "Enter roll number 200\n",
      "Enter age 30\n",
      "\n",
      "\n",
      "Roll number: 200 Name: 30\n",
      "Printing type of a input values\n",
      "type of number <class 'str'>\n",
      "type of name <class 'str'>\n"
     ]
    }
   ],
   "source": [
    "# check Data type of input function\n",
    "number = input(\"Enter roll number \")\n",
    "name = input(\"Enter age \")\n",
    "\n",
    "print(\"\\n\")\n",
    "print('Roll number:', number, 'Name:', name)\n",
    "print(\"Printing type of a input values\")\n",
    "print(\"type of number\", type(number))\n",
    "print(\"type of name\", type(name))\n",
    "\n",
    "\n",
    "#As you know whatever you enter as input, the input() function always converts it into a string.\n"
   ]
  },
  {
   "cell_type": "code",
   "execution_count": 103,
   "id": "b917511c",
   "metadata": {},
   "outputs": [
    {
     "name": "stdout",
     "output_type": "stream",
     "text": [
      "Enter first number 50\n",
      "Enter second number 80\n",
      "\n",
      "\n",
      "First Number: 50\n",
      "Second Number: 80\n",
      "type of number <class 'int'>\n",
      "Addition of two number is:  130\n"
     ]
    }
   ],
   "source": [
    "# program to calculate addition of two input integer numbers\n",
    "\n",
    "# convert inout into int\n",
    "first_number = int(input(\"Enter first number \"))\n",
    "second_number = int(input(\"Enter second number \"))\n",
    "\n",
    "print(\"\\n\")\n",
    "print(\"First Number:\", first_number)\n",
    "print(\"Second Number:\", second_number)\n",
    "print(\"type of number\", type(first_number))\n",
    "\n",
    "sum1 = first_number + second_number\n",
    "print(\"Addition of two number is: \", sum1)"
   ]
  },
  {
   "cell_type": "code",
   "execution_count": null,
   "id": "c4f7e1bd",
   "metadata": {},
   "outputs": [],
   "source": [
    "# take Float value as input\n",
    "marks = float(input(\"Enter marks \"))\n",
    "print(\"\\n\")\n",
    "print(\"Student marks is: \", marks)\n",
    "print(\"type is:\", type(marks))"
   ]
  },
  {
   "cell_type": "code",
   "execution_count": 104,
   "id": "6b3644d0",
   "metadata": {},
   "outputs": [
    {
     "name": "stdout",
     "output_type": "stream",
     "text": [
      "Enter your Name, Age, Percentage separated by space yyy 60 70\n",
      "\n",
      "\n",
      "User Details:  yyy 60 70\n"
     ]
    }
   ],
   "source": [
    "# Accept multiple input\n",
    "name, age, marks = input(\"Enter your Name, Age, Percentage separated by space \").split()\n",
    "print(\"\\n\")\n",
    "print(\"User Details: \", name, age, marks)"
   ]
  },
  {
   "cell_type": "code",
   "execution_count": 105,
   "id": "b27da1d9",
   "metadata": {},
   "outputs": [
    {
     "name": "stdout",
     "output_type": "stream",
     "text": [
      "Tell me about yourself\n",
      "hii\n",
      "I am kalyani\n",
      "MMCOE\n",
      "\n",
      "\n",
      "\n",
      "Final text input\n",
      "hii\n",
      "I am kalyani\n",
      "MMCOE\n"
     ]
    }
   ],
   "source": [
    "# list to store multi line input\n",
    "# press enter two times to exit\n",
    "data = []\n",
    "print(\"Tell me about yourself\")\n",
    "while True:\n",
    "    line = input()\n",
    "    if line:\n",
    "        data.append(line)\n",
    "    else:\n",
    "        break\n",
    "finalText = '\\n'.join(data)\n",
    "print(\"\\n\")\n",
    "print(\"Final text input\")\n",
    "print(finalText)"
   ]
  },
  {
   "cell_type": "raw",
   "id": "1c8edd77",
   "metadata": {},
   "source": [
    "# Imagine you are managing a small online store, and you want to calculate the total revenue from the sales of three different products. Each product has a different price and quantity sold. \n",
    "Additionally, you want to check whether the total revenue exceeds a certain threshold to determine if you need to apply a discount.\n"
   ]
  },
  {
   "cell_type": "code",
   "execution_count": null,
   "id": "21640fb6",
   "metadata": {},
   "outputs": [],
   "source": []
  },
  {
   "cell_type": "code",
   "execution_count": null,
   "id": "6c913f60",
   "metadata": {},
   "outputs": [],
   "source": [
    "# Product 1\n",
    "price_product1 = 25.50\n",
    "quantity_product1 = 30\n",
    "\n",
    "# Product 2\n",
    "price_product2 = 19.99\n",
    "quantity_product2 = 45\n",
    "\n",
    "# Product 3\n",
    "price_product3 = 10.75\n",
    "quantity_product3 = 50\n",
    "\n",
    "# Calculate total revenue\n",
    "total_revenue = (price_product1 * quantity_product1) + (price_product2 * quantity_product2) + (price_product3 * quantity_product3)\n",
    "\n",
    "# Threshold for applying a discount\n",
    "discount_threshold = 1000\n",
    "\n",
    "# Check if total revenue exceeds the discount threshold\n",
    "apply_discount = total_revenue > discount_threshold\n",
    "\n",
    "# Display the results\n",
    "print(\"Product 1 Revenue:\", price_product1 * quantity_product1)\n",
    "print(\"Product 2 Revenue:\", price_product2 * quantity_product2)\n",
    "print(\"Product 3 Revenue:\", price_product3 * quantity_product3)\n",
    "print(\"Total Revenue:\", total_revenue)\n",
    "\n",
    "if apply_discount:\n",
    "    print(\"Discount applies! Total revenue exceeds the threshold.\")\n",
    "else:\n",
    "    print(\"No discount. Total revenue is within the threshold.\")\n"
   ]
  },
  {
   "cell_type": "code",
   "execution_count": 44,
   "id": "e86b6b08",
   "metadata": {},
   "outputs": [
    {
     "name": "stdout",
     "output_type": "stream",
     "text": [
      "Item 1: Laptop - Quantity: 2 - Price: $899.99 - Total Cost: $1799.98\n",
      "Item 2: Mouse - Quantity: 3 - Price: $19.99 - Total Cost: $59.97\n",
      "Item 3: Headphones - Quantity: 1 - Price: $49.99 - Total Cost: $49.99\n",
      "\n",
      "Overall Total Cost: $1909.94\n"
     ]
    }
   ],
   "source": [
    "# Item 1\n",
    "item1_name = \"Laptop\"\n",
    "item1_quantity = 2\n",
    "item1_price = 899.99\n",
    "\n",
    "# Item 2\n",
    "item2_name = \"Mouse\"\n",
    "item2_quantity = 3\n",
    "item2_price = 19.99\n",
    "\n",
    "# Item 3\n",
    "item3_name = \"Headphones\"\n",
    "item3_quantity = 1\n",
    "item3_price = 49.99\n",
    "\n",
    "# Calculate total cost for each item\n",
    "item1_total_cost = item1_quantity * item1_price\n",
    "item2_total_cost = item2_quantity * item2_price\n",
    "item3_total_cost = item3_quantity * item3_price\n",
    "\n",
    "# Calculate overall total cost\n",
    "overall_total_cost = item1_total_cost + item2_total_cost + item3_total_cost\n",
    "\n",
    "# Display item details and total cost\n",
    "print(f\"Item 1: {item1_name} - Quantity: {item1_quantity} - Price: ${item1_price} - Total Cost: ${item1_total_cost}\")\n",
    "print(f\"Item 2: {item2_name} - Quantity: {item2_quantity} - Price: ${item2_price} - Total Cost: ${item2_total_cost}\")\n",
    "print(f\"Item 3: {item3_name} - Quantity: {item3_quantity} - Price: ${item3_price} - Total Cost: ${item3_total_cost}\")\n",
    "\n",
    "print(\"\\nOverall Total Cost: ${:.2f}\".format(overall_total_cost))\n"
   ]
  },
  {
   "cell_type": "markdown",
   "id": "71160170",
   "metadata": {},
   "source": [
    "# ifelse"
   ]
  },
  {
   "cell_type": "code",
   "execution_count": 45,
   "id": "cba774ec",
   "metadata": {},
   "outputs": [
    {
     "name": "stdout",
     "output_type": "stream",
     "text": [
      "Admin\n",
      "Editor\n",
      "Guest\n",
      "Wrong entry\n"
     ]
    }
   ],
   "source": [
    "def user_check(choice):\n",
    "    if choice == 1:\n",
    "        print(\"Admin\")\n",
    "    elif choice == 2:\n",
    "        print(\"Editor\")\n",
    "    elif choice == 3:\n",
    "        print(\"Guest\")\n",
    "    else:\n",
    "        print(\"Wrong entry\")\n",
    "\n",
    "user_check(1)\n",
    "user_check(2)\n",
    "user_check(3)\n",
    "user_check(4)"
   ]
  },
  {
   "cell_type": "code",
   "execution_count": 46,
   "id": "1ad2aa4d",
   "metadata": {},
   "outputs": [
    {
     "name": "stdout",
     "output_type": "stream",
     "text": [
      "Enter first number 20\n",
      "Enter second number 50\n",
      "20 is smaller than 50\n"
     ]
    }
   ],
   "source": [
    "num1 = int(input('Enter first number '))\n",
    "num2 = int(input('Enter second number '))\n",
    "\n",
    "if num1 >= num2:\n",
    "    if num1 == num2:\n",
    "        print(num1, 'and', num2, 'are equal')\n",
    "    else:\n",
    "        print(num1, 'is greater than', num2)\n",
    "else:\n",
    "    print(num1, 'is smaller than', num2)"
   ]
  },
  {
   "cell_type": "markdown",
   "id": "5de9e55c",
   "metadata": {},
   "source": [
    "# Example: add two matrices using nested loop\n"
   ]
  },
  {
   "cell_type": "code",
   "execution_count": null,
   "id": "1a9a5c00",
   "metadata": {},
   "outputs": [],
   "source": [
    "\n",
    "X = [[12,9,3],\n",
    "    [4,5,6],\n",
    "    [7,8,3]]\n",
    "\n",
    "Y = [[9,8,1],\n",
    "    [6,7,3],\n",
    "    [4,5,9]]\n",
    "\n",
    "result = [[0,0,0],\n",
    "         [0,0,0],\n",
    "         [0,0,0]]\n",
    "\n",
    "# iterate through rows\n",
    "for i in range(len(X)):\n",
    "   # iterate through columns\n",
    "   for j in range(len(X[0])):\n",
    "        result[i][j] = X[i][j] + Y[i][j]\n",
    "\n",
    "for r in result:\n",
    "    print(r)"
   ]
  },
  {
   "cell_type": "markdown",
   "id": "2e411f76",
   "metadata": {},
   "source": [
    "# Function to calculate commission and total earnings\n"
   ]
  },
  {
   "cell_type": "code",
   "execution_count": null,
   "id": "d1aae8e9",
   "metadata": {},
   "outputs": [],
   "source": [
    "def calculate_commission(name, base_salary, sales_amount):\n",
    "    if sales_amount < 10000:\n",
    "        commission_rate = 0.05\n",
    "    elif 10000 <= sales_amount <= 50000:\n",
    "        commission_rate = 0.08\n",
    "    else:\n",
    "        commission_rate = 0.10\n",
    "\n",
    "    commission = commission_rate * sales_amount\n",
    "    total_earnings = base_salary + commission\n",
    "\n",
    "    return name, base_salary, sales_amount, commission_rate, commission, total_earnings\n",
    "\n",
    "# Input for a salesperson\n",
    "salesperson_name = input(\"Enter salesperson's name: \")\n",
    "base_salary = float(input(\"Enter base salary: $\"))\n",
    "sales_amount = float(input(\"Enter sales amount: $\"))\n",
    "\n",
    "# Calculate and display commission details\n",
    "name, salary, sales, rate, commission, total_earnings = calculate_commission(salesperson_name, base_salary, sales_amount)\n",
    "print(\"\\nCommission Details:\")\n",
    "print(f\"Salesperson Name: {name}\")\n",
    "print(f\"Base Salary: ${salary}\")\n",
    "print(f\"Sales Amount: ${sales}\")\n",
    "print(f\"Commission Rate: {rate * 100}%\")\n",
    "print(f\"Commission: ${commission}\")\n",
    "print(f\"Total Earnings: ${total_earnings}\")"
   ]
  },
  {
   "cell_type": "markdown",
   "id": "9df38bf8",
   "metadata": {},
   "source": [
    "Write a program that computes the net amount of a bank account based on a transaction log from console input. The transaction log format is shown as follows: D 100 W 200 D means deposit while W means withdrawal. Suppose the following input is supplied to the program: D 300 D 300 W 200 D 100 Then, the output should be: 500"
   ]
  },
  {
   "cell_type": "code",
   "execution_count": null,
   "id": "08c905c8",
   "metadata": {},
   "outputs": [
    {
     "name": "stdout",
     "output_type": "stream",
     "text": [
      "D 300 D 300 W 200 D 100\n",
      "D 300 D 300 W 200 D 100\n"
     ]
    }
   ],
   "source": [
    "netAmount = 0\n",
    "while True:\n",
    "    s = input()\n",
    "    if not s:\n",
    "        break\n",
    "    values = s.split(\" \")\n",
    "    operation = values[0]\n",
    "    amount = int(values[1])\n",
    "    if operation==\"D\":\n",
    "        netAmount+=amount\n",
    "    elif operation==\"W\":\n",
    "        netAmount-=amount\n",
    "    else:\n",
    "        pass\n",
    "print(netAmount)"
   ]
  },
  {
   "cell_type": "markdown",
   "id": "246e57dc",
   "metadata": {},
   "source": [
    "A website requires the users to input username and password to register. Write a program to check the validity of password input by users. Following are the criteria for checking the password:\n",
    "\n",
    "At least 1 letter between [a-z]\n",
    "At least 1 number between [0-9]\n",
    "At least 1 letter between [A-Z]\n",
    "At least 1 character from [$#@]\n",
    "Minimum length of transaction password: 6\n",
    "Maximum length of transaction password: 12 Your program should accept a sequence of comma separated passwords and will check them according to the above criteria. Passwords that match the criteria are to be printed, each separated by a comma. Example If the following passwords are given as input to the program: ABd1234@1,a F1#,2w3E*,2We3345 Then, the output of the program should be: ABd1234@1"
   ]
  },
  {
   "cell_type": "code",
   "execution_count": 117,
   "id": "86872c4b",
   "metadata": {},
   "outputs": [
    {
     "name": "stdout",
     "output_type": "stream",
     "text": [
      "ABd1234@1,a F1#,2w3E*,2We3345\n",
      "ABd1234@1\n"
     ]
    }
   ],
   "source": [
    "import re\n",
    "value = []\n",
    "items=[x for x in input().split(',')]\n",
    "for p in items:\n",
    "    if len(p)<6 or len(p)>12:\n",
    "        continue\n",
    "    else:\n",
    "        pass\n",
    "    if not re.search(\"[a-z]\",p):\n",
    "        continue\n",
    "    elif not re.search(\"[0-9]\",p):\n",
    "        continue\n",
    "    elif not re.search(\"[A-Z]\",p):\n",
    "        continue\n",
    "    elif not re.search(\"[$#@]\",p):\n",
    "        continue\n",
    "    elif re.search(\"\\s\",p):\n",
    "        continue\n",
    "    else:\n",
    "        pass\n",
    "    value.append(p)\n",
    "print(\",\".join(value))\n"
   ]
  },
  {
   "cell_type": "code",
   "execution_count": 114,
   "id": "95c469dd",
   "metadata": {},
   "outputs": [
    {
     "name": "stdout",
     "output_type": "stream",
     "text": [
      "Enter passwords separated by commas: ABd1234@1,a F1#,2w3E*,2We3345\n",
      "Valid Passwords: ABd1234@1\n"
     ]
    }
   ],
   "source": [
    "import re\n",
    "\n",
    "def is_valid_password(password):\n",
    "    # Criteria for password validation\n",
    "    lowercase_regex = re.compile(r'[a-z]')\n",
    "    uppercase_regex = re.compile(r'[A-Z]')\n",
    "    digit_regex = re.compile(r'[0-9]')\n",
    "    special_char_regex = re.compile(r'[$#@]')\n",
    "    length_range = range(6, 13)\n",
    "\n",
    "    # Check if password meets all criteria\n",
    "    if (\n",
    "        lowercase_regex.search(password) and\n",
    "        uppercase_regex.search(password) and\n",
    "        digit_regex.search(password) and\n",
    "        special_char_regex.search(password) and\n",
    "        len(password) in length_range\n",
    "    ):\n",
    "        return True\n",
    "    else:\n",
    "        return False\n",
    "\n",
    "# Input passwords separated by commas\n",
    "input_passwords = input(\"Enter passwords separated by commas: \")\n",
    "\n",
    "# Split the input passwords\n",
    "passwords = input_passwords.split(',')\n",
    "\n",
    "# Validate and print passwords that match the criteria\n",
    "valid_passwords = [password for password in passwords if is_valid_password(password)]\n",
    "print(\"Valid Passwords:\", ', '.join(valid_passwords))\n"
   ]
  },
  {
   "cell_type": "code",
   "execution_count": 115,
   "id": "cc1653d5",
   "metadata": {},
   "outputs": [
    {
     "name": "stdout",
     "output_type": "stream",
     "text": [
      "Enter passwords (comma-separated): ABd1234@1,a F1#,2w3E*,2We3345\n",
      "Valid Passwords: ABd1234@1\n"
     ]
    }
   ],
   "source": [
    "import re\n",
    "\n",
    "def is_valid_password(password):\n",
    "    # Define the regular expression pattern for password validation\n",
    "    pattern = r\"^(?=.*[a-z])(?=.*[A-Z])(?=.*[0-9])(?=.*[$#@]).{6,12}$\"\n",
    "    \n",
    "    # Use re.match to check if the password matches the pattern\n",
    "    return bool(re.match(pattern, password))\n",
    "\n",
    "# Input passwords as a comma-separated string\n",
    "passwords_input = input(\"Enter passwords (comma-separated): \")\n",
    "\n",
    "# Split the input into a list of passwords\n",
    "passwords_list = passwords_input.split(',')\n",
    "\n",
    "# Filter valid passwords using the is_valid_password function\n",
    "valid_passwords = [password for password in passwords_list if is_valid_password(password)]\n",
    "\n",
    "# Output the valid passwords separated by commas\n",
    "print(\"Valid Passwords:\", \",\".join(valid_passwords))"
   ]
  },
  {
   "cell_type": "code",
   "execution_count": 116,
   "id": "b50a3a1b",
   "metadata": {},
   "outputs": [
    {
     "name": "stdout",
     "output_type": "stream",
     "text": [
      "ABd1234@1,a F1#,2w3E*,2We3345\n",
      "ABd1234@1\n"
     ]
    }
   ],
   "source": []
  }
 ],
 "metadata": {
  "kernelspec": {
   "display_name": "Python 3 (ipykernel)",
   "language": "python",
   "name": "python3"
  },
  "language_info": {
   "codemirror_mode": {
    "name": "ipython",
    "version": 3
   },
   "file_extension": ".py",
   "mimetype": "text/x-python",
   "name": "python",
   "nbconvert_exporter": "python",
   "pygments_lexer": "ipython3",
   "version": "3.11.3"
  }
 },
 "nbformat": 4,
 "nbformat_minor": 5
}
