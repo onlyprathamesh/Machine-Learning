{
 "cells": [
  {
   "cell_type": "markdown",
   "id": "d359f2d4-67f8-4fb5-83e8-9182c78f8319",
   "metadata": {},
   "source": [
    "# Numpy Tutorial"
   ]
  },
  {
   "cell_type": "code",
   "execution_count": 215,
   "id": "0459ded6-1e39-4d50-85f0-d71d615ba89f",
   "metadata": {},
   "outputs": [],
   "source": [
    "import numpy as np"
   ]
  },
  {
   "cell_type": "code",
   "execution_count": 216,
   "id": "0c209c4b-4a10-4689-994b-f7b65fa15f5d",
   "metadata": {},
   "outputs": [],
   "source": [
    "array = np.array([[1,2,3,4,5]], np.int8)"
   ]
  },
  {
   "cell_type": "code",
   "execution_count": 217,
   "id": "aebd38df-924a-4da5-ad18-3ce1233b9e99",
   "metadata": {},
   "outputs": [
    {
     "name": "stdout",
     "output_type": "stream",
     "text": [
      "prints array: [[1 2 3 4 5]]\n"
     ]
    }
   ],
   "source": [
    "print('prints array:',array)"
   ]
  },
  {
   "cell_type": "code",
   "execution_count": 218,
   "id": "fcf152c0-9e29-400b-af17-071b3cf8dca6",
   "metadata": {},
   "outputs": [
    {
     "name": "stdout",
     "output_type": "stream",
     "text": [
      "Gives shape of array: (1, 5)\n"
     ]
    }
   ],
   "source": [
    "print('Gives shape of array:',array.shape)"
   ]
  },
  {
   "cell_type": "code",
   "execution_count": 219,
   "id": "cbbb9a2d-46c5-4180-926a-3181d81a2c2f",
   "metadata": {},
   "outputs": [
    {
     "name": "stdout",
     "output_type": "stream",
     "text": [
      "Gives datatype of array: int8\n"
     ]
    }
   ],
   "source": [
    "print('Gives datatype of array:',array.dtype)"
   ]
  },
  {
   "cell_type": "code",
   "execution_count": 220,
   "id": "3960a7a5-e3a3-4028-a42e-8c6305a58fdd",
   "metadata": {},
   "outputs": [
    {
     "name": "stdout",
     "output_type": "stream",
     "text": [
      "changed the element at(0,1)th position:\n",
      "[[ 1 45  3  4  5]]\n"
     ]
    }
   ],
   "source": [
    "print('changed the element at(0,1)th position:')\n",
    "array [0,1] = 45 \n",
    "print(array)"
   ]
  },
  {
   "cell_type": "code",
   "execution_count": 221,
   "id": "7312dc47-e641-471f-b3f1-700e0c226951",
   "metadata": {},
   "outputs": [
    {
     "data": {
      "text/plain": [
       "5"
      ]
     },
     "execution_count": 221,
     "metadata": {},
     "output_type": "execute_result"
    }
   ],
   "source": [
    "array.size"
   ]
  },
  {
   "cell_type": "code",
   "execution_count": 222,
   "id": "768aa235-8e0e-477c-b84e-dbf628aade94",
   "metadata": {},
   "outputs": [
    {
     "name": "stdout",
     "output_type": "stream",
     "text": [
      "array which have datatype as object\n"
     ]
    },
    {
     "data": {
      "text/plain": [
       "array({1, 2, 3}, dtype=object)"
      ]
     },
     "execution_count": 222,
     "metadata": {},
     "output_type": "execute_result"
    }
   ],
   "source": [
    "print('array which have datatype as object')\n",
    "np.array({1,2,3})"
   ]
  },
  {
   "cell_type": "code",
   "execution_count": 223,
   "id": "754060d8-8091-49e0-9c1e-1a71a392ca75",
   "metadata": {},
   "outputs": [
    {
     "name": "stdout",
     "output_type": "stream",
     "text": [
      "Created array with 0's filled in it:\n",
      " [[0. 0. 0. 0. 0.]\n",
      " [0. 0. 0. 0. 0.]]\n"
     ]
    }
   ],
   "source": [
    "zeros = np.zeros((2,5))\n",
    "print(\"Created array with 0's filled in it:\\n\",zeros)"
   ]
  },
  {
   "cell_type": "code",
   "execution_count": 224,
   "id": "9511b94f",
   "metadata": {},
   "outputs": [
    {
     "name": "stdout",
     "output_type": "stream",
     "text": [
      "Array which consist total range of number:\n"
     ]
    },
    {
     "data": {
      "text/plain": [
       "array([ 0,  1,  2,  3,  4,  5,  6,  7,  8,  9, 10, 11, 12, 13, 14])"
      ]
     },
     "execution_count": 224,
     "metadata": {},
     "output_type": "execute_result"
    }
   ],
   "source": [
    "print('Array which consist total range of number:')\n",
    "np.arange(15)"
   ]
  },
  {
   "cell_type": "code",
   "execution_count": 225,
   "id": "f91376f0",
   "metadata": {},
   "outputs": [
    {
     "name": "stdout",
     "output_type": "stream",
     "text": [
      "Creates an array where from start to end numbers are divided into respecitve equal parts:\n"
     ]
    },
    {
     "data": {
      "text/plain": [
       "array([ 1.        ,  1.81818182,  2.63636364,  3.45454545,  4.27272727,\n",
       "        5.09090909,  5.90909091,  6.72727273,  7.54545455,  8.36363636,\n",
       "        9.18181818, 10.        ])"
      ]
     },
     "execution_count": 225,
     "metadata": {},
     "output_type": "execute_result"
    }
   ],
   "source": [
    "print('Creates an array where from start to end numbers are divided into respecitve equal parts:')\n",
    "# (initial num, final num, number of equal partitions)\n",
    "linspace = np.linspace(1,10,12)\n",
    "linspace"
   ]
  },
  {
   "cell_type": "code",
   "execution_count": 226,
   "id": "9bb6e15c",
   "metadata": {},
   "outputs": [
    {
     "name": "stdout",
     "output_type": "stream",
     "text": [
      "[0.0e+000 9.9e-324 2.0e-323 4.9e-324 1.5e-323]\n"
     ]
    }
   ],
   "source": [
    "emp = np.empty(5)\n",
    "print(emp)"
   ]
  },
  {
   "cell_type": "code",
   "execution_count": 227,
   "metadata": {},
   "outputs": [
    {
     "name": "stdout",
     "output_type": "stream",
     "text": [
      "Creates an empty array which has same shape and size as of linspace:\n"
     ]
    },
    {
     "data": {
      "text/plain": [
       "array([ 1.        ,  1.81818182,  2.63636364,  3.45454545,  4.27272727,\n",
       "        5.09090909,  5.90909091,  6.72727273,  7.54545455,  8.36363636,\n",
       "        9.18181818, 10.        ])"
      ]
     },
     "execution_count": 227,
     "metadata": {},
     "output_type": "execute_result"
    }
   ],
   "source": [
    "print('Creates an empty array which has same shape and size as of linspace:')\n",
    "empty_like = np.empty_like(linspace)\n",
    "empty_like"
   ]
  },
  {
   "cell_type": "code",
   "execution_count": 228,
   "id": "78f06b8c",
   "metadata": {},
   "outputs": [
    {
     "name": "stdout",
     "output_type": "stream",
     "text": [
      "Identity matrix:\n"
     ]
    },
    {
     "data": {
      "text/plain": [
       "array([[1., 0., 0., 0., 0.],\n",
       "       [0., 1., 0., 0., 0.],\n",
       "       [0., 0., 1., 0., 0.],\n",
       "       [0., 0., 0., 1., 0.],\n",
       "       [0., 0., 0., 0., 1.]])"
      ]
     },
     "execution_count": 228,
     "metadata": {},
     "output_type": "execute_result"
    }
   ],
   "source": [
    "print('Identity matrix:')\n",
    "identity_matrix = np.identity(5)\n",
    "identity_matrix"
   ]
  },
  {
   "cell_type": "markdown",
   "id": "87cdc9ca",
   "metadata": {},
   "source": [
    "### Reshape & Ravel"
   ]
  },
  {
   "cell_type": "code",
   "execution_count": 229,
   "id": "a380b769",
   "metadata": {},
   "outputs": [
    {
     "name": "stdout",
     "output_type": "stream",
     "text": [
      "Normal Array:\n",
      " [ 0  1  2  3  4  5  6  7  8  9 10 11 12 13 14 15 16 17 18 19 20 21 22 23\n",
      " 24 25 26 27 28 29 30 31 32 33 34 35 36 37 38 39 40 41 42 43 44 45 46 47\n",
      " 48 49 50 51 52 53 54 55 56 57 58 59 60 61 62 63 64 65 66 67 68 69 70 71\n",
      " 72 73 74 75 76 77 78 79 80 81 82 83 84 85 86 87 88 89 90 91 92 93 94 95\n",
      " 96 97 98 99]\n",
      "Shape: (100,)\n",
      "Reshape Array (reshapes in given shape if possible):\n",
      " [[ 0  1  2  3  4  5  6  7  8  9 10 11 12 13 14 15 16 17 18 19]\n",
      " [20 21 22 23 24 25 26 27 28 29 30 31 32 33 34 35 36 37 38 39]\n",
      " [40 41 42 43 44 45 46 47 48 49 50 51 52 53 54 55 56 57 58 59]\n",
      " [60 61 62 63 64 65 66 67 68 69 70 71 72 73 74 75 76 77 78 79]\n",
      " [80 81 82 83 84 85 86 87 88 89 90 91 92 93 94 95 96 97 98 99]]\n",
      "Shape: (5, 20)\n",
      "Ravel array (converts back into one shaped array):\n",
      " [ 0  1  2  3  4  5  6  7  8  9 10 11 12 13 14 15 16 17 18 19 20 21 22 23\n",
      " 24 25 26 27 28 29 30 31 32 33 34 35 36 37 38 39 40 41 42 43 44 45 46 47\n",
      " 48 49 50 51 52 53 54 55 56 57 58 59 60 61 62 63 64 65 66 67 68 69 70 71\n",
      " 72 73 74 75 76 77 78 79 80 81 82 83 84 85 86 87 88 89 90 91 92 93 94 95\n",
      " 96 97 98 99]\n",
      "Shape: (100,)\n"
     ]
    }
   ],
   "source": [
    "r_array = np.arange(100)\n",
    "print('Normal Array:\\n',r_array)\n",
    "print('Shape:', r_array.shape)\n",
    "\n",
    "reshape = r_array.reshape(5,20)\n",
    "print('Reshape Array (reshapes in given shape if possible):\\n',reshape)\n",
    "print('Shape:', reshape.shape)\n",
    "\n",
    "ravel = r_array.ravel()\n",
    "print('Ravel array (converts back into one shaped array):\\n', ravel)\n",
    "print('Shape:', ravel.shape)"
   ]
  },
  {
   "cell_type": "markdown",
   "id": "bfbff23a",
   "metadata": {},
   "source": [
    "### Axis"
   ]
  },
  {
   "cell_type": "code",
   "execution_count": 230,
   "id": "164fe4f2",
   "metadata": {},
   "outputs": [
    {
     "name": "stdout",
     "output_type": "stream",
     "text": [
      "[[1 2 6]\n",
      " [4 9 6]\n",
      " [3 8 9]]\n"
     ]
    },
    {
     "data": {
      "text/plain": [
       "array([ 8, 19, 21])"
      ]
     },
     "execution_count": 230,
     "metadata": {},
     "output_type": "execute_result"
    }
   ],
   "source": [
    "'''1D array have only 1 axis -> axis[0]\n",
    "   2D array have 2 axis -> axis[0], axis[1]\n",
    "   similarly for others\n",
    "   \n",
    "   whereas axis[0] is columnwise axis[1] is rowwise in 2D array'''\n",
    "\n",
    "axis_array = [[1,2,6],[4,9,6],[3,8,9]]\n",
    "arr = np.array(axis_array)\n",
    "print(arr)\n",
    "arr.sum(axis=0)"
   ]
  },
  {
   "cell_type": "code",
   "execution_count": 247,
   "metadata": {},
   "outputs": [
    {
     "name": "stdout",
     "output_type": "stream",
     "text": [
      "Transpose of an array:\n",
      " [[1 4 3]\n",
      " [2 9 8]\n",
      " [6 6 9]]\n"
     ]
    }
   ],
   "source": [
    "print('Transpose of an array:\\n', arr.T)"
   ]
  },
  {
   "cell_type": "markdown",
   "id": "d64ca84b",
   "metadata": {},
   "source": [
    "### Array iteration"
   ]
  },
  {
   "cell_type": "code",
   "execution_count": 232,
   "id": "26a406dc",
   "metadata": {},
   "outputs": [
    {
     "name": "stdout",
     "output_type": "stream",
     "text": [
      "1\n",
      "2\n",
      "6\n",
      "4\n",
      "9\n",
      "6\n",
      "3\n",
      "8\n",
      "9\n"
     ]
    }
   ],
   "source": [
    "# .flat is used for iteration\n",
    "\n",
    "for i in arr.flat:\n",
    "    print(i)"
   ]
  },
  {
   "cell_type": "code",
   "execution_count": 233,
   "id": "47f1f991",
   "metadata": {},
   "outputs": [
    {
     "name": "stdout",
     "output_type": "stream",
     "text": [
      "Diemsions of an array: 2\n"
     ]
    }
   ],
   "source": [
    "# .ndim to get the dimensions of an array\n",
    "\n",
    "print('Diemsions of an array:', arr.ndim)"
   ]
  },
  {
   "cell_type": "markdown",
   "id": "df3e6fec",
   "metadata": {},
   "source": [
    "### Total bytes taken by array"
   ]
  },
  {
   "cell_type": "code",
   "execution_count": 234,
   "id": "5cd6160a",
   "metadata": {},
   "outputs": [
    {
     "name": "stdout",
     "output_type": "stream",
     "text": [
      "Total nunber of bytes taken by arr: 36\n"
     ]
    }
   ],
   "source": [
    "print('Total nunber of bytes taken by arr:',arr.nbytes)"
   ]
  },
  {
   "cell_type": "markdown",
   "id": "c481e5ae",
   "metadata": {},
   "source": [
    "### Playing with args"
   ]
  },
  {
   "cell_type": "code",
   "execution_count": 235,
   "id": "0a211078",
   "metadata": {},
   "outputs": [
    {
     "data": {
      "text/plain": [
       "array([ 1,  5,  2, 64,  2])"
      ]
     },
     "execution_count": 235,
     "metadata": {},
     "output_type": "execute_result"
    }
   ],
   "source": [
    "one_d_array = np.array([1,5,2,64,2])\n",
    "one_d_array"
   ]
  },
  {
   "cell_type": "code",
   "execution_count": 236,
   "id": "f98e88b1",
   "metadata": {},
   "outputs": [
    {
     "name": "stdout",
     "output_type": "stream",
     "text": [
      "smallest number on index: 0\n",
      "largest number on index: 3\n",
      "sorted array indexes: [0 2 4 1 3]\n"
     ]
    }
   ],
   "source": [
    "print('smallest number on index:',one_d_array.argmin())\n",
    "print('largest number on index:',one_d_array.argmax())\n",
    "print('sorted array indexes:',one_d_array.argsort())"
   ]
  },
  {
   "cell_type": "code",
   "execution_count": 237,
   "id": "dc349954",
   "metadata": {},
   "outputs": [
    {
     "name": "stdout",
     "output_type": "stream",
     "text": [
      "[[1 2 6]\n",
      " [4 9 6]\n",
      " [3 8 9]]\n",
      "smallest number on index: 0\n",
      "smallest number on index for axis: [0 0 0]\n",
      "largest number on index: 4\n",
      "largest number on index for axis: [2 1 2]\n",
      "sorted array indexes:\n",
      " [[0 1 2]\n",
      " [0 2 1]\n",
      " [0 1 2]]\n",
      "sorted array indexes:\n",
      " [[0 1 2]\n",
      " [0 2 1]\n",
      " [0 1 2]]\n"
     ]
    }
   ],
   "source": [
    "# similarly for 2D array\n",
    "print(arr)\n",
    "\n",
    "print('smallest number on index:',arr.argmin())\n",
    "print('smallest number on index for axis:',arr.argmin(axis=0))\n",
    "print('largest number on index:',arr.argmax())\n",
    "print('largest number on index for axis:',arr.argmax(axis=1))\n",
    "print('sorted array indexes:\\n',arr.argsort())\n",
    "print('sorted array indexes:\\n',arr.argsort(axis=1))"
   ]
  },
  {
   "cell_type": "markdown",
   "id": "2b785fdf",
   "metadata": {},
   "source": [
    "### array operations"
   ]
  },
  {
   "cell_type": "code",
   "execution_count": 238,
   "id": "fc1377b4",
   "metadata": {},
   "outputs": [
    {
     "name": "stdout",
     "output_type": "stream",
     "text": [
      "arr1:\n",
      " [[1 2 3]\n",
      " [2 5 4]\n",
      " [3 0 1]]\n",
      "arr2:\n",
      " [[3 2 5]\n",
      " [2 1 1]\n",
      " [3 1 2]]\n",
      "addition:\n",
      " [[4 4 8]\n",
      " [4 6 5]\n",
      " [6 1 3]]\n",
      "difference:\n",
      " [[-2  0 -2]\n",
      " [ 0  4  3]\n",
      " [ 0 -1 -1]]\n",
      "multiplication:\n",
      " [[ 3  4 15]\n",
      " [ 4  5  4]\n",
      " [ 9  0  2]]\n",
      "divison:\n",
      " [[0.33333333 1.         0.6       ]\n",
      " [1.         5.         4.        ]\n",
      " [1.         0.         0.5       ]]\n"
     ]
    }
   ],
   "source": [
    "arr1 = np.array([[1,2,3],[2,5,4],[3,0,1]])\n",
    "arr2 = np.array([[3,2,5],[2,1,1],[3,1,2]])\n",
    "print('arr1:\\n',arr1)\n",
    "print('arr2:\\n',arr2)\n",
    "print('addition:\\n',arr1 + arr2)\n",
    "print('difference:\\n',arr1 - arr2)\n",
    "print('multiplication:\\n',arr1 * arr2)\n",
    "print('divison:\\n',arr1 / arr2)\n"
   ]
  },
  {
   "cell_type": "code",
   "execution_count": 239,
   "id": "88f39a7f",
   "metadata": {},
   "outputs": [
    {
     "data": {
      "text/plain": [
       "array([[1.        , 1.41421356, 1.73205081],\n",
       "       [1.41421356, 2.23606798, 2.        ],\n",
       "       [1.73205081, 0.        , 1.        ]])"
      ]
     },
     "execution_count": 239,
     "metadata": {},
     "output_type": "execute_result"
    }
   ],
   "source": [
    "np.sqrt(arr1)"
   ]
  },
  {
   "cell_type": "code",
   "execution_count": 240,
   "id": "68e65b00",
   "metadata": {},
   "outputs": [
    {
     "name": "stdout",
     "output_type": "stream",
     "text": [
      "arr1:\n",
      " [[1 2 3]\n",
      " [2 5 4]\n",
      " [3 0 1]]\n",
      "5\n",
      "0\n"
     ]
    },
    {
     "data": {
      "text/plain": [
       "(array([1, 1], dtype=int64), array([1, 2], dtype=int64))"
      ]
     },
     "execution_count": 240,
     "metadata": {},
     "output_type": "execute_result"
    }
   ],
   "source": [
    "print('arr1:\\n', arr1)\n",
    "print(np.max(arr1))\n",
    "print(np.min(arr1))\n",
    "\n",
    "# condition checking\n",
    "\n",
    "np.where(arr1>3)"
   ]
  },
  {
   "cell_type": "code",
   "execution_count": 241,
   "id": "ca5ac817",
   "metadata": {},
   "outputs": [
    {
     "data": {
      "text/plain": [
       "8"
      ]
     },
     "execution_count": 241,
     "metadata": {},
     "output_type": "execute_result"
    }
   ],
   "source": [
    "np.count_nonzero(arr1)"
   ]
  },
  {
   "cell_type": "code",
   "execution_count": 242,
   "id": "93cabc3d",
   "metadata": {},
   "outputs": [
    {
     "data": {
      "text/plain": [
       "(array([0, 0, 0, 1, 1, 1, 2, 2], dtype=int64),\n",
       " array([0, 1, 2, 0, 1, 2, 0, 2], dtype=int64))"
      ]
     },
     "execution_count": 242,
     "metadata": {},
     "output_type": "execute_result"
    }
   ],
   "source": [
    "np.nonzero(arr1)"
   ]
  },
  {
   "cell_type": "code",
   "execution_count": 244,
   "id": "61133fcd",
   "metadata": {},
   "outputs": [
    {
     "name": "stdout",
     "output_type": "stream",
     "text": [
      "size of python array: 140\n",
      "size of numpy array: 20\n"
     ]
    }
   ],
   "source": [
    "import sys\n",
    "a = [1,2,3,4,5]\n",
    "b = np.array([1,2,3,4,5])\n",
    "print('size of python array:',sys.getsizeof(1)*len(a))\n",
    "print('size of numpy array:',b.nbytes)"
   ]
  }
 ],
 "metadata": {
  "kernelspec": {
   "display_name": "Python 3 (ipykernel)",
   "language": "python",
   "name": "python3"
  },
  "language_info": {
   "codemirror_mode": {
    "name": "ipython",
    "version": 3
   },
   "file_extension": ".py",
   "mimetype": "text/x-python",
   "name": "python",
   "nbconvert_exporter": "python",
   "pygments_lexer": "ipython3",
   "version": "3.10.2"
  }
 },
 "nbformat": 4,
 "nbformat_minor": 5
}
