{
 "cells": [
  {
   "cell_type": "markdown",
   "id": "d359f2d4-67f8-4fb5-83e8-9182c78f8319",
   "metadata": {},
   "source": [
    "# Numpy Tutorial"
   ]
  },
  {
   "cell_type": "code",
   "execution_count": 2,
   "id": "0459ded6-1e39-4d50-85f0-d71d615ba89f",
   "metadata": {},
   "outputs": [],
   "source": [
    "import numpy as np"
   ]
  },
  {
   "cell_type": "code",
   "execution_count": 20,
   "id": "0c209c4b-4a10-4689-994b-f7b65fa15f5d",
   "metadata": {},
   "outputs": [],
   "source": [
    "array = np.array([[1,2,3,4,5]], np.int8)"
   ]
  },
  {
   "cell_type": "code",
   "execution_count": 17,
   "id": "aebd38df-924a-4da5-ad18-3ce1233b9e99",
   "metadata": {},
   "outputs": [
    {
     "name": "stdout",
     "output_type": "stream",
     "text": [
      "prints array: [[1 2 3 4 5]\n",
      " [2 3 4 5 6]]\n"
     ]
    }
   ],
   "source": [
    "print('prints array:',array)"
   ]
  },
  {
   "cell_type": "code",
   "execution_count": 21,
   "id": "fcf152c0-9e29-400b-af17-071b3cf8dca6",
   "metadata": {},
   "outputs": [
    {
     "name": "stdout",
     "output_type": "stream",
     "text": [
      "Gives shape of array: (1, 5)\n"
     ]
    }
   ],
   "source": [
    "print('Gives shape of array:',array.shape)"
   ]
  },
  {
   "cell_type": "code",
   "execution_count": 6,
   "id": "cbbb9a2d-46c5-4180-926a-3181d81a2c2f",
   "metadata": {},
   "outputs": [
    {
     "name": "stdout",
     "output_type": "stream",
     "text": [
      "Gives datatype of array: int8\n"
     ]
    }
   ],
   "source": [
    "print('Gives datatype of array:',array.dtype)"
   ]
  },
  {
   "cell_type": "code",
   "execution_count": 7,
   "id": "3960a7a5-e3a3-4028-a42e-8c6305a58fdd",
   "metadata": {},
   "outputs": [
    {
     "name": "stdout",
     "output_type": "stream",
     "text": [
      "changed the element at(0,1)th position:\n"
     ]
    }
   ],
   "source": [
    "print('changed the element at(0,1)th position:')\n",
    "array [0,1] = 45 "
   ]
  },
  {
   "cell_type": "code",
   "execution_count": 8,
   "id": "231c7686-2c86-4617-b56f-469f0fe61b55",
   "metadata": {},
   "outputs": [
    {
     "data": {
      "text/plain": [
       "array([[ 1, 45,  3,  4,  5]], dtype=int8)"
      ]
     },
     "execution_count": 8,
     "metadata": {},
     "output_type": "execute_result"
    }
   ],
   "source": [
    "array"
   ]
  },
  {
   "cell_type": "code",
   "execution_count": 9,
   "id": "7312dc47-e641-471f-b3f1-700e0c226951",
   "metadata": {},
   "outputs": [
    {
     "data": {
      "text/plain": [
       "5"
      ]
     },
     "execution_count": 9,
     "metadata": {},
     "output_type": "execute_result"
    }
   ],
   "source": [
    "array.size"
   ]
  },
  {
   "cell_type": "code",
   "execution_count": 10,
   "id": "768aa235-8e0e-477c-b84e-dbf628aade94",
   "metadata": {},
   "outputs": [
    {
     "name": "stdout",
     "output_type": "stream",
     "text": [
      "array which have datatype as object\n"
     ]
    },
    {
     "data": {
      "text/plain": [
       "array({1, 2, 3}, dtype=object)"
      ]
     },
     "execution_count": 10,
     "metadata": {},
     "output_type": "execute_result"
    }
   ],
   "source": [
    "print('array which have datatype as object')\n",
    "np.array({1,2,3})"
   ]
  },
  {
   "cell_type": "code",
   "execution_count": 11,
   "id": "754060d8-8091-49e0-9c1e-1a71a392ca75",
   "metadata": {},
   "outputs": [
    {
     "name": "stdout",
     "output_type": "stream",
     "text": [
      "Created array with 0's filled in it:\n",
      " [[0. 0. 0. 0. 0.]\n",
      " [0. 0. 0. 0. 0.]]\n"
     ]
    }
   ],
   "source": [
    "zeros = np.zeros((2,5))\n",
    "print(\"Created array with 0's filled in it:\\n\",zeros)"
   ]
  },
  {
   "cell_type": "code",
   "execution_count": 12,
   "id": "9511b94f",
   "metadata": {},
   "outputs": [
    {
     "name": "stdout",
     "output_type": "stream",
     "text": [
      "Array which consist total range of number:\n"
     ]
    },
    {
     "data": {
      "text/plain": [
       "array([ 0,  1,  2,  3,  4,  5,  6,  7,  8,  9, 10, 11, 12, 13, 14])"
      ]
     },
     "execution_count": 12,
     "metadata": {},
     "output_type": "execute_result"
    }
   ],
   "source": [
    "print('Array which consist total range of number:')\n",
    "np.arange(15)"
   ]
  },
  {
   "cell_type": "code",
   "execution_count": 13,
   "id": "f91376f0",
   "metadata": {},
   "outputs": [
    {
     "name": "stdout",
     "output_type": "stream",
     "text": [
      "Creates an array where from start to end numbers are divided into respecitve equal parts:\n"
     ]
    },
    {
     "data": {
      "text/plain": [
       "array([ 1.        ,  1.81818182,  2.63636364,  3.45454545,  4.27272727,\n",
       "        5.09090909,  5.90909091,  6.72727273,  7.54545455,  8.36363636,\n",
       "        9.18181818, 10.        ])"
      ]
     },
     "execution_count": 13,
     "metadata": {},
     "output_type": "execute_result"
    }
   ],
   "source": [
    "print('Creates an array where from start to end numbers are divided into respecitve equal parts:')\n",
    "# (initial num, final num, number of equal partitions)\n",
    "np.linspace(1,10,12)"
   ]
  },
  {
   "cell_type": "code",
   "execution_count": 14,
   "id": "9bb6e15c",
   "metadata": {},
   "outputs": [
    {
     "name": "stdout",
     "output_type": "stream",
     "text": [
      "[0.00000000e+000 8.40905506e-312 8.40905506e-312 8.40905506e-312\n",
      " 0.00000000e+000]\n"
     ]
    }
   ],
   "source": [
    "emp = np.empty(5)\n",
    "print(emp)"
   ]
  }
 ],
 "metadata": {
  "kernelspec": {
   "display_name": "Python 3 (ipykernel)",
   "language": "python",
   "name": "python3"
  },
  "language_info": {
   "codemirror_mode": {
    "name": "ipython",
    "version": 3
   },
   "file_extension": ".py",
   "mimetype": "text/x-python",
   "name": "python",
   "nbconvert_exporter": "python",
   "pygments_lexer": "ipython3",
   "version": "3.10.2"
  }
 },
 "nbformat": 4,
 "nbformat_minor": 5
}
